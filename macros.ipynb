{
 "cells": [
  {
   "attachments": {},
   "cell_type": "markdown",
   "metadata": {},
   "source": [
    "Moves selected vertices in random direction"
   ]
  },
  {
   "cell_type": "code",
   "execution_count": null,
   "metadata": {},
   "outputs": [],
   "source": [
    "import bpy\n",
    "import random\n",
    "import bmesh\n",
    "\n",
    "# Get the active object and its mesh\n",
    "obj = bpy.context.active_object\n",
    "bm = bmesh.from_edit_mesh(obj.data)\n",
    "\n",
    "# Store the selected vertices in a variable\n",
    "selected_vertices = [v for v in bm.verts if v.select]\n",
    "\n",
    "# Define the amount of movement\n",
    "movement_amount = 0.005\n",
    "\n",
    "# Move each selected vertex slightly in a random direction\n",
    "for vertex in selected_vertices:\n",
    "    vertex.co.x += random.uniform(-movement_amount, movement_amount)\n",
    "    vertex.co.y += random.uniform(-movement_amount, movement_amount)\n",
    "    vertex.co.z += random.uniform(-movement_amount, movement_amount)\n",
    "\n",
    "# Update the object to reflect the changes\n",
    "bmesh.update_edit_mesh(obj.data)"
   ]
  },
  {
   "attachments": {},
   "cell_type": "markdown",
   "metadata": {},
   "source": [
    "Selectes all vertices in active object and moves them in random direction by the movement_amount\n",
    "\n",
    "Must be in edit mode!\n",
    "\n",
    "Be carefull, this cant be undone! Save file before use!"
   ]
  },
  {
   "cell_type": "code",
   "execution_count": null,
   "metadata": {},
   "outputs": [],
   "source": [
    "import bpy\n",
    "import random\n",
    "import bmesh\n",
    "\n",
    "# Get the active object and its mesh\n",
    "obj = bpy.context.active_object\n",
    "bpy.ops.mesh.select_all(action='SELECT')\n",
    "bm = bmesh.from_edit_mesh(obj.data)\n",
    "\n",
    "# Store the selected vertices in a variable\n",
    "selected_vertices = [v for v in bm.verts if v.select]\n",
    "\n",
    "# Define the amount of movement\n",
    "movement_amount = 0.005\n",
    "\n",
    "# Move each selected vertex slightly in a random direction\n",
    "for vertex in selected_vertices:\n",
    "    vertex.co.x += random.uniform(-movement_amount, movement_amount)\n",
    "    vertex.co.y += random.uniform(-movement_amount, movement_amount)\n",
    "    vertex.co.z += random.uniform(-movement_amount, movement_amount)\n",
    "\n",
    "# Update the object to reflect the changes\n",
    "bmesh.update_edit_mesh(obj.data)"
   ]
  },
  {
   "attachments": {},
   "cell_type": "markdown",
   "metadata": {},
   "source": [
    "Selecet random edges in based on percentage\n",
    "\n",
    "must be in edit mode \n",
    "\n",
    "edges selection"
   ]
  },
  {
   "cell_type": "code",
   "execution_count": null,
   "metadata": {},
   "outputs": [],
   "source": [
    "import random\n",
    "import bmesh\n",
    "import bpy\n",
    "\n",
    "\n",
    "# Get the active object and its mesh\n",
    "obj = bpy.context.active_object\n",
    "bpy.ops.mesh.select_all(action='SELECT')\n",
    "bm = bmesh.from_edit_mesh(obj.data)\n",
    "\n",
    "# Define the percentage of edges to select\n",
    "percentage = 0.1\n",
    "num_edges = int(len(bm.edges) * percentage)\n",
    "\n",
    "# Deselect all edges\n",
    "for edge in bm.edges:\n",
    "    edge.select = False\n",
    "\n",
    "# Select random edges\n",
    "random_edges = random.sample(list(bm.edges), num_edges)\n",
    "for edge in random_edges:\n",
    "    edge.select = True"
   ]
  },
  {
   "attachments": {},
   "cell_type": "markdown",
   "metadata": {},
   "source": [
    "Selecet random verts in based on percentage\n",
    "\n",
    "must be in edit mode \n",
    "\n",
    "vertex selection"
   ]
  },
  {
   "cell_type": "code",
   "execution_count": null,
   "metadata": {},
   "outputs": [],
   "source": [
    "import random\n",
    "import bmesh\n",
    "import bpy\n",
    "\n",
    "\n",
    "# Get the active object and its mesh\n",
    "obj = bpy.context.active_object\n",
    "bpy.ops.mesh.select_all(action='SELECT')\n",
    "bm = bmesh.from_edit_mesh(obj.data)\n",
    "\n",
    "# Define the percentage of edges to select\n",
    "percentage = 0.1\n",
    "num_verts = int(len(bm.verts) * percentage)\n",
    "\n",
    "# Deselect all verts\n",
    "for verts in bm.verts:\n",
    "    verts.select = False\n",
    "\n",
    "# Select random edges\n",
    "random_verts = random.sample(list(bm.verts), num_verts)\n",
    "for verts in random_verts:\n",
    "    verts.select = True"
   ]
  },
  {
   "attachments": {},
   "cell_type": "markdown",
   "metadata": {},
   "source": [
    "Selecet random edges in based on percentage\n",
    "\n",
    "prefers vertical\n",
    "\n",
    "must be in edit mode \n",
    "\n",
    "edges selection"
   ]
  },
  {
   "cell_type": "code",
   "execution_count": null,
   "metadata": {},
   "outputs": [],
   "source": [
    "import random\n",
    "import bmesh\n",
    "import bpy\n",
    "\n",
    "\n",
    "# Get the active object and its mesh\n",
    "obj = bpy.context.active_object\n",
    "bpy.ops.mesh.select_all(action='SELECT')\n",
    "bm = bmesh.from_edit_mesh(obj.data)\n",
    "\n",
    "# Define the percentage of edges to select\n",
    "percentage = 0.1\n",
    "\n",
    "num_edges = int(len(bm.edges) * percentage)\n",
    "\n",
    "# Deselect all edges\n",
    "for edge in bm.edges:\n",
    "    edge.select = False\n",
    "\n",
    "# Select vertical edges\n",
    "vertical_edges = [edge for edge in bm.edges if abs(edge.calc_face_angle() - 1.57) < 0.1]\n",
    "\n",
    "# Select random vertical edges\n",
    "random_edges = random.sample(vertical_edges, num_edges)\n",
    "for edge in random_edges:\n",
    "    edge.select = True"
   ]
  }
 ],
 "metadata": {
  "kernelspec": {
   "display_name": "Python 3",
   "language": "python",
   "name": "python3"
  },
  "language_info": {
   "name": "python",
   "version": "3.10.7 (main, Nov 24 2022, 19:45:47) [GCC 12.2.0]"
  },
  "orig_nbformat": 4,
  "vscode": {
   "interpreter": {
    "hash": "916dbcbb3f70747c44a77c7bcd40155683ae19c65e1c03b4aa3499c5328201f1"
   }
  }
 },
 "nbformat": 4,
 "nbformat_minor": 2
}
